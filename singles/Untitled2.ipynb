{
 "cells": [
  {
   "cell_type": "code",
   "execution_count": 5,
   "metadata": {
    "collapsed": false
   },
   "outputs": [
    {
     "name": "stdout",
     "output_type": "stream",
     "text": [
      "[{'message': 'сумма вашей задолженности составляет', 'summa': '-1200.0', 'name': 'Беларусьторг ГП'}, {'message': 'сумма вашей задолженности составляет', 'summa': '-0.01', 'name': 'Газпром трансгаз Беларусь ОАО'}, {'message': 'сумма вашей задолженности составляет', 'summa': '-0.01', 'name': 'Минская дистанция пути БЕЛ ЖД'}, {'message': 'сумма вашей задолженности составляет', 'summa': '-0.01', 'name': 'Строймедиапроект ГП'}, {'message': 'сумма вашей задолженности составляет', 'summa': '-0.01', 'name': 'Трайпл ООО'}, {'message': 'сумма вашей задолженности составляет', 'summa': '-215.53', 'name': 'Цептер Банк ЗАО'}]\n"
     ]
    }
   ],
   "source": [
    "#! /usr/bin/env python\n",
    "# -*- coding: utf-8 -*\n",
    "import selector as sel\n",
    "import win32com.client\n",
    "\n",
    "data_start = \"2016-06-30\"\n",
    "data_end = \"2017-11-09\"\n",
    "\n",
    "first = sel.get_hvosty_lists(sel.cur,data_start, data_end)[0]\n",
    "second = sel.get_hvosty_lists(sel.cur,data_start, data_end)[1]\n",
    "third = sel.get_hvosty_lists(sel.cur,data_start, data_end)[2]\n",
    "fourth = sel.get_hvosty_lists(sel.cur,data_start, data_end)[3]\n",
    "print(first)\n",
    "tables = [first, second, third, fourth]\n",
    "\n",
    "names = [[i['name'] for i in s] for s in tables]\n",
    "sums = [[i['summa'] for i in s] for s in tables]\n",
    "\n",
    "\n",
    "\n",
    "\n",
    "Excel = win32com.client.Dispatch(\"Excel.Application\")\n",
    "dipart_ex = Excel.Workbooks.Open(u'D:\\\\Bysy\\\\busy\\\\Test_dbf\\\\dipart.xls')\n",
    "\n",
    "sheet = dipart_ex.ActiveSheet\n",
    "\n",
    "\n",
    "\n",
    "def nuts(some_list,some_list1,some_list2,some_list3, col_name):\n",
    "    cell_number = 1\n",
    "    for rec in some_list:\n",
    "        sheet.Cells(1,col_name).value = \"Задолженность поставщиков\"\n",
    "        sheet.Cells(cell_number,col_name).value = rec\n",
    "        cell_number = cell_number + 1    \n",
    "        pass\n",
    "        \n",
    "\n",
    "    cell_number1 = len(some_list)+5\n",
    "    sheet.Cells(cell_number1,col_name).value = \"Предоплата поставщикам\"\n",
    "    for rec1 in some_list1:\n",
    "        sheet.Cells(cell_number1,col_name).value = rec1\n",
    "        cell_number1 = cell_number1 + 1    \n",
    "        pass\n",
    "\n",
    "\n",
    "    cell_number2 = (len(some_list1)+5+len(some_list)+5)\n",
    "    sheet.Cells(cell_number2,col_name).value = \"Задолженность покупателей\"\n",
    "    for rec2 in some_list2:\n",
    "        sheet.Cells(cell_number2,col_name).value = rec2\n",
    "        cell_number2 = cell_number2 + 1    \n",
    "        pass\n",
    "\n",
    "\n",
    "    cell_number3 = (len(some_list)+5+len(some_list1)+5+len(some_list2)+5)    \n",
    "    sheet.Cells(cell_number3,col_name).value = \"Предоплата от покупателей\"\n",
    "    for rec3 in some_list3:\n",
    "        sheet.Cells(cell_number3,col_name).value = rec3\n",
    "        cell_number3 = cell_number3 + 1    \n",
    "               \n",
    "nuts(names[0],names[1],names[2],names[3],1)\n",
    "nuts(sums[0],sums[1],sums[2],sums[3],2)  \n",
    "\n",
    "#сохраняем рабочую книгу\n",
    "dipart_ex.Save()\n",
    "\n",
    "#закрываем ее\n",
    "dipart_ex.Close()\n",
    "\n",
    "#закрываем COM объект\n",
    "Excel.Quit()\n"
   ]
  },
  {
   "cell_type": "code",
   "execution_count": null,
   "metadata": {
    "collapsed": true
   },
   "outputs": [],
   "source": []
  }
 ],
 "metadata": {
  "kernelspec": {
   "display_name": "Python 3",
   "language": "python",
   "name": "python3"
  },
  "language_info": {
   "codemirror_mode": {
    "name": "ipython",
    "version": 3
   },
   "file_extension": ".py",
   "mimetype": "text/x-python",
   "name": "python",
   "nbconvert_exporter": "python",
   "pygments_lexer": "ipython3",
   "version": "3.5.1"
  }
 },
 "nbformat": 4,
 "nbformat_minor": 2
}
