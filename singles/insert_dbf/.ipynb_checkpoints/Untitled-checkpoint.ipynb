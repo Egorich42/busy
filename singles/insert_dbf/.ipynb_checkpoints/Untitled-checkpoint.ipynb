{
 "cells": [
  {
   "cell_type": "code",
   "execution_count": null,
   "metadata": {},
   "outputs": [],
   "source": []
  },
  {
   "cell_type": "code",
   "execution_count": 20,
   "metadata": {},
   "outputs": [
    {
     "ename": "SyntaxError",
     "evalue": "bytes can only contain ASCII literal characters. (<ipython-input-20-6fa4b8431551>, line 78)",
     "output_type": "error",
     "traceback": [
      "\u001b[1;36m  File \u001b[1;32m\"<ipython-input-20-6fa4b8431551>\"\u001b[1;36m, line \u001b[1;32m78\u001b[0m\n\u001b[1;33m    b'\\сука'.decode(\"ASCII\", \"backslashreplace\")\u001b[0m\n\u001b[1;37m                                                ^\u001b[0m\n\u001b[1;31mSyntaxError\u001b[0m\u001b[1;31m:\u001b[0m bytes can only contain ASCII literal characters.\n"
     ]
    }
   ],
   "source": [
    "#! /usr/bin/env python\n",
    "# -*- coding: utf-8 -*\n",
    "# -*- coding: utf-8 -*-\n",
    "import sys\n",
    "import codecs\n",
    "\n",
    "def setup_console(sys_enc=\"utf-8\"):\n",
    "    reload(sys)\n",
    "    try:\n",
    "        # для win32 вызываем системную библиотечную функцию\n",
    "        if sys.platform.startswith(\"win\"):\n",
    "            import ctypes\n",
    "            enc = \"cp%d\" % ctypes.windll.kernel32.GetOEMCP() #TODO: проверить на win64/python64\n",
    "        else:\n",
    "            # для Linux всё, кажется, есть и так\n",
    "            enc = (sys.stdout.encoding if sys.stdout.isatty() else\n",
    "                        sys.stderr.encoding if sys.stderr.isatty() else\n",
    "                            sys.getfilesystemencoding() or sys_enc)\n",
    "\n",
    "        # кодировка для sys\n",
    "        sys.setdefaultencoding(sys_enc)\n",
    "\n",
    "        # переопределяем стандартные потоки вывода, если они не перенаправлены\n",
    "        if sys.stdout.isatty() and sys.stdout.encoding != enc:\n",
    "            sys.stdout = codecs.getwriter(enc)(sys.stdout, 'replace')\n",
    "\n",
    "        if sys.stderr.isatty() and sys.stderr.encoding != enc:\n",
    "            sys.stderr = codecs.getwriter(enc)(sys.stderr, 'replace')\n",
    "\n",
    "    except:\n",
    "        pass\n",
    "import dbf\n",
    "from openpyxl import load_workbook,Workbook\n",
    "\n",
    "\n",
    "excel_document = 'amedenta.xlsx'\n",
    "\n",
    "amedenta_list = load_workbook(excel_document,data_only = True)\n",
    "\n",
    "main_inner_sheet = amedenta_list.active\n",
    "\n",
    "\n",
    "#names = (name, code, auantity, unit, price, summ, tnvd, weight, weight_summ, country)\n",
    "\n",
    "def\tget_excel_data():\n",
    "\tdata_from_excel =[]\n",
    "\n",
    "\tfor i in range(6,main_inner_sheet.max_row):\n",
    "\t\tif main_inner_sheet.cell(row=i, column=3).value != None:\n",
    "\t\t\tdata_from_excel += [(\n",
    "\t\t\t\t\t\t\t\tstr(main_inner_sheet.cell(row=i, column=3).value),\n",
    "\t\t\t\t\t\t\t\tstr(main_inner_sheet.cell(row=i, column=4).value),\n",
    "\t\t\t\t\t\t\t\tstr(main_inner_sheet.cell(row=i, column=5).value),\n",
    "\t\t\t\t\t\t\t\tmain_inner_sheet.cell(row=i, column=6).value,\n",
    "\t\t\t\t\t\t\t\tstr(main_inner_sheet.cell(row=i, column=7).value),\n",
    "\t\t\t\t\t\t\t\tstr(main_inner_sheet.cell(row=i, column=8).value),\n",
    "\t\t\t\t\t\t\t\tstr(main_inner_sheet.cell(row=i, column=9).value),\n",
    "\t\t\t\t\t\t\t\tstr(main_inner_sheet.cell(row=i, column=10).value),\n",
    "\t\t\t\t\t\t\t\tstr(round(main_inner_sheet.cell(row=i, column=11).value,3)),\n",
    "\t\t\t\t\t\t\t\tmain_inner_sheet.cell(row=i, column=12).value,\n",
    "\t\t\t\t\t\t\t\t)]\n",
    "\n",
    "\treturn data_from_excel\n",
    "\tpass\n",
    "\n",
    "data = get_excel_data()\n",
    "table = dbf.Table('SC245')\n",
    "#print(table.codepage)\n",
    "#print(data[5])\n",
    "table.open()\n",
    "#m = str('сука!!!!'.encode('ascii', 'ignore').decode('cp1251'))\n",
    "m= str('Ретрактор  для губ и щек'.encode('cp1251'))\n",
    "print(m)\n",
    "#cp437. 866, 1251, utf8,koi8-r,iso-8859-1. cp1252\n",
    "\n",
    "for datum in( ('1VCIB','0','1532','нsuka'),  ):\n",
    "    table.append(datum)\n"
   ]
  },
  {
   "cell_type": "code",
   "execution_count": null,
   "metadata": {},
   "outputs": [],
   "source": []
  },
  {
   "cell_type": "code",
   "execution_count": null,
   "metadata": {},
   "outputs": [],
   "source": []
  },
  {
   "cell_type": "code",
   "execution_count": null,
   "metadata": {},
   "outputs": [],
   "source": []
  },
  {
   "cell_type": "code",
   "execution_count": null,
   "metadata": {},
   "outputs": [],
   "source": []
  },
  {
   "cell_type": "code",
   "execution_count": null,
   "metadata": {},
   "outputs": [],
   "source": []
  },
  {
   "cell_type": "code",
   "execution_count": null,
   "metadata": {},
   "outputs": [],
   "source": []
  }
 ],
 "metadata": {
  "kernelspec": {
   "display_name": "Python 3",
   "language": "python",
   "name": "python3"
  },
  "language_info": {
   "codemirror_mode": {
    "name": "ipython",
    "version": 3
   },
   "file_extension": ".py",
   "mimetype": "text/x-python",
   "name": "python",
   "nbconvert_exporter": "python",
   "pygments_lexer": "ipython3",
   "version": "3.6.3"
  }
 },
 "nbformat": 4,
 "nbformat_minor": 2
}
