{
 "cells": [
  {
   "cell_type": "code",
   "execution_count": null,
   "metadata": {
    "collapsed": true
   },
   "outputs": [],
   "source": [
    "[[{'unp': '190690111', 'id': '6', 'doc_date': '2016-06-15', 'parent': '6', 'contragent_name': 'Государственное предприятие \"Беларусьторг\"', 'deleted': '', 'name': 'Беларусьторг ГП', 'doc_type': '0', 'summ': 42.11, 'document_name': 'Акт БЕ от 15.06.16 г.', 'full_name': 'Государственное предприятие \"Беларусьторг\"'}], [{'unp': '190690111', 'id': '6', 'doc_date': '2016-06-20', 'parent': '6', 'contragent_name': 'Государственное предприятие \"Беларусьторг\"', 'deleted': '', 'name': 'Беларусьторг ГП', 'doc_type': '2MI', 'summ': 42.11, 'document_name': 'ПП 199 от 20.06.16 г.', 'full_name': 'Государственное предприятие \"Беларусьторг\"'}]]"
   ]
  }
 ],
 "metadata": {
  "kernelspec": {
   "display_name": "Python 3",
   "language": "python",
   "name": "python3"
  },
  "language_info": {
   "codemirror_mode": {
    "name": "ipython",
    "version": 3
   },
   "file_extension": ".py",
   "mimetype": "text/x-python",
   "name": "python",
   "nbconvert_exporter": "python",
   "pygments_lexer": "ipython3",
   "version": "3.5.1"
  }
 },
 "nbformat": 4,
 "nbformat_minor": 2
}
