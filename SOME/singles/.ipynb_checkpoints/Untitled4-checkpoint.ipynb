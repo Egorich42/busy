{
 "cells": [
  {
   "cell_type": "code",
   "execution_count": 1,
   "metadata": {},
   "outputs": [],
   "source": [
    "# coding: utf8\n",
    "\n",
    "import xlwt\n",
    "\n",
    "# Создаем книку\n",
    "book = xlwt.Workbook('utf8')\n",
    "\n",
    "\n",
    "\n",
    "# Добавляем лист\n",
    "sheet = book.add_sheet('аренда')\n",
    "\n",
    "# Лист в положении \"альбом\"\n",
    "sheet.portrait = False\n",
    "\n",
    "# Масштабирование при печати\n",
    "sheet.set_print_scaling(85)\n",
    "\n",
    "# Сохраняем в файл\n",
    "book.save('filename.xls')"
   ]
  },
  {
   "cell_type": "code",
   "execution_count": null,
   "metadata": {},
   "outputs": [],
   "source": []
  }
 ],
 "metadata": {
  "kernelspec": {
   "display_name": "Python 3",
   "language": "python",
   "name": "python3"
  },
  "language_info": {
   "codemirror_mode": {
    "name": "ipython",
    "version": 3
   },
   "file_extension": ".py",
   "mimetype": "text/x-python",
   "name": "python",
   "nbconvert_exporter": "python",
   "pygments_lexer": "ipython3",
   "version": "3.6.3"
  }
 },
 "nbformat": 4,
 "nbformat_minor": 2
}
